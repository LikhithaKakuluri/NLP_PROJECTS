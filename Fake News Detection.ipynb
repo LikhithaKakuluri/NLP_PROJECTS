{
 "cells": [
  {
   "cell_type": "markdown",
   "id": "68ba48a3",
   "metadata": {},
   "source": [
    "# Importing the Dependencies"
   ]
  },
  {
   "cell_type": "code",
   "execution_count": 1,
   "id": "bc62a7f8",
   "metadata": {},
   "outputs": [],
   "source": [
    "import pandas as pd\n",
    "import numpy as np\n",
    "from sklearn.model_selection import train_test_split\n",
    "from sklearn.feature_extraction.text import TfidfVectorizer\n",
    "from sklearn.linear_model import PassiveAggressiveClassifier\n",
    "from sklearn.metrics import accuracy_score"
   ]
  },
  {
   "cell_type": "markdown",
   "id": "fffb27a0",
   "metadata": {},
   "source": [
    "What is a PassiveAggressiveClassifier?\n",
    "\n",
    "Passive Aggressive algorithms are online learning algorithms. Such an algorithm remains passive for a correct classification outcome, and turns aggressive in the event of a miscalculation, updating and adjusting. Unlike most other algorithms, it does not converge. Its purpose is to make updates that correct the loss, causing very little change in the norm of the weight vector."
   ]
  },
  {
   "cell_type": "markdown",
   "id": "9411c3fd",
   "metadata": {},
   "source": [
    "# Data Collection and Preprocessing"
   ]
  },
  {
   "cell_type": "code",
   "execution_count": 2,
   "id": "5f3e59d7",
   "metadata": {},
   "outputs": [
    {
     "data": {
      "text/html": [
       "<div>\n",
       "<style scoped>\n",
       "    .dataframe tbody tr th:only-of-type {\n",
       "        vertical-align: middle;\n",
       "    }\n",
       "\n",
       "    .dataframe tbody tr th {\n",
       "        vertical-align: top;\n",
       "    }\n",
       "\n",
       "    .dataframe thead th {\n",
       "        text-align: right;\n",
       "    }\n",
       "</style>\n",
       "<table border=\"1\" class=\"dataframe\">\n",
       "  <thead>\n",
       "    <tr style=\"text-align: right;\">\n",
       "      <th></th>\n",
       "      <th>Unnamed: 0</th>\n",
       "      <th>title</th>\n",
       "      <th>text</th>\n",
       "      <th>label</th>\n",
       "    </tr>\n",
       "  </thead>\n",
       "  <tbody>\n",
       "    <tr>\n",
       "      <th>0</th>\n",
       "      <td>8476</td>\n",
       "      <td>You Can Smell Hillary’s Fear</td>\n",
       "      <td>Daniel Greenfield, a Shillman Journalism Fello...</td>\n",
       "      <td>FAKE</td>\n",
       "    </tr>\n",
       "    <tr>\n",
       "      <th>1</th>\n",
       "      <td>10294</td>\n",
       "      <td>Watch The Exact Moment Paul Ryan Committed Pol...</td>\n",
       "      <td>Google Pinterest Digg Linkedin Reddit Stumbleu...</td>\n",
       "      <td>FAKE</td>\n",
       "    </tr>\n",
       "    <tr>\n",
       "      <th>2</th>\n",
       "      <td>3608</td>\n",
       "      <td>Kerry to go to Paris in gesture of sympathy</td>\n",
       "      <td>U.S. Secretary of State John F. Kerry said Mon...</td>\n",
       "      <td>REAL</td>\n",
       "    </tr>\n",
       "    <tr>\n",
       "      <th>3</th>\n",
       "      <td>10142</td>\n",
       "      <td>Bernie supporters on Twitter erupt in anger ag...</td>\n",
       "      <td>— Kaydee King (@KaydeeKing) November 9, 2016 T...</td>\n",
       "      <td>FAKE</td>\n",
       "    </tr>\n",
       "    <tr>\n",
       "      <th>4</th>\n",
       "      <td>875</td>\n",
       "      <td>The Battle of New York: Why This Primary Matters</td>\n",
       "      <td>It's primary day in New York and front-runners...</td>\n",
       "      <td>REAL</td>\n",
       "    </tr>\n",
       "  </tbody>\n",
       "</table>\n",
       "</div>"
      ],
      "text/plain": [
       "   Unnamed: 0                                              title  \\\n",
       "0        8476                       You Can Smell Hillary’s Fear   \n",
       "1       10294  Watch The Exact Moment Paul Ryan Committed Pol...   \n",
       "2        3608        Kerry to go to Paris in gesture of sympathy   \n",
       "3       10142  Bernie supporters on Twitter erupt in anger ag...   \n",
       "4         875   The Battle of New York: Why This Primary Matters   \n",
       "\n",
       "                                                text label  \n",
       "0  Daniel Greenfield, a Shillman Journalism Fello...  FAKE  \n",
       "1  Google Pinterest Digg Linkedin Reddit Stumbleu...  FAKE  \n",
       "2  U.S. Secretary of State John F. Kerry said Mon...  REAL  \n",
       "3  — Kaydee King (@KaydeeKing) November 9, 2016 T...  FAKE  \n",
       "4  It's primary day in New York and front-runners...  REAL  "
      ]
     },
     "execution_count": 2,
     "metadata": {},
     "output_type": "execute_result"
    }
   ],
   "source": [
    "df=pd.read_csv(\"news.csv\")\n",
    "df.head()"
   ]
  },
  {
   "cell_type": "code",
   "execution_count": 3,
   "id": "ba1c732a",
   "metadata": {},
   "outputs": [
    {
     "data": {
      "text/plain": [
       "(6335, 4)"
      ]
     },
     "execution_count": 3,
     "metadata": {},
     "output_type": "execute_result"
    }
   ],
   "source": [
    "#number of rows and columns\n",
    "df.shape"
   ]
  },
  {
   "cell_type": "markdown",
   "id": "454d5e1b",
   "metadata": {},
   "source": [
    "# Label Encoding"
   ]
  },
  {
   "cell_type": "code",
   "execution_count": 4,
   "id": "d9754faf",
   "metadata": {},
   "outputs": [],
   "source": [
    "#label fake as 0;real as 1;\n",
    "df.loc[df['label']=='FAKE','label',]=0\n",
    "df.loc[df['label']=='REAL','label',]=1"
   ]
  },
  {
   "cell_type": "code",
   "execution_count": 5,
   "id": "729418e9",
   "metadata": {},
   "outputs": [
    {
     "data": {
      "text/plain": [
       "0       Daniel Greenfield, a Shillman Journalism Fello...\n",
       "1       Google Pinterest Digg Linkedin Reddit Stumbleu...\n",
       "2       U.S. Secretary of State John F. Kerry said Mon...\n",
       "3       — Kaydee King (@KaydeeKing) November 9, 2016 T...\n",
       "4       It's primary day in New York and front-runners...\n",
       "                              ...                        \n",
       "6330    The State Department told the Republican Natio...\n",
       "6331    The ‘P’ in PBS Should Stand for ‘Plutocratic’ ...\n",
       "6332     Anti-Trump Protesters Are Tools of the Oligar...\n",
       "6333    ADDIS ABABA, Ethiopia —President Obama convene...\n",
       "6334    Jeb Bush Is Suddenly Attacking Trump. Here's W...\n",
       "Name: text, Length: 6335, dtype: object"
      ]
     },
     "execution_count": 5,
     "metadata": {},
     "output_type": "execute_result"
    }
   ],
   "source": [
    "x=df['text']\n",
    "x"
   ]
  },
  {
   "cell_type": "code",
   "execution_count": 6,
   "id": "23c31dbf",
   "metadata": {},
   "outputs": [
    {
     "data": {
      "text/plain": [
       "0       0\n",
       "1       0\n",
       "2       1\n",
       "3       0\n",
       "4       1\n",
       "       ..\n",
       "6330    1\n",
       "6331    0\n",
       "6332    0\n",
       "6333    1\n",
       "6334    1\n",
       "Name: label, Length: 6335, dtype: object"
      ]
     },
     "execution_count": 6,
     "metadata": {},
     "output_type": "execute_result"
    }
   ],
   "source": [
    "y=df['label']\n",
    "y"
   ]
  },
  {
   "cell_type": "markdown",
   "id": "3303a7d5",
   "metadata": {},
   "source": [
    "# Splitting the data into training and testing dataset"
   ]
  },
  {
   "cell_type": "code",
   "execution_count": 7,
   "id": "2c62787e",
   "metadata": {},
   "outputs": [],
   "source": [
    "x_train,x_test,y_train,y_test=train_test_split(x,y,test_size=0.2,random_state=2)"
   ]
  },
  {
   "cell_type": "code",
   "execution_count": 8,
   "id": "b92152fd",
   "metadata": {},
   "outputs": [
    {
     "name": "stdout",
     "output_type": "stream",
     "text": [
      "(6335,) (5068,) (1267,)\n"
     ]
    }
   ],
   "source": [
    "print(x.shape,x_train.shape,x_test.shape)"
   ]
  },
  {
   "cell_type": "code",
   "execution_count": 9,
   "id": "eaf1aaeb",
   "metadata": {},
   "outputs": [],
   "source": [
    "#Now fit and transform the vectorizer on the train set, and transform the vectorizer on the test set.\n",
    "feature_extraction=TfidfVectorizer(stop_words='english',max_df=0.7)\n",
    "x_train_features=feature_extraction.fit_transform(x_train)\n",
    "x_test_features=feature_extraction.transform(x_test)"
   ]
  },
  {
   "cell_type": "code",
   "execution_count": 10,
   "id": "e9da5731",
   "metadata": {},
   "outputs": [],
   "source": [
    "#convert y_train and y_test values as integers\n",
    "y_train=y_train.astype('int')\n",
    "y_test=y_test.astype('int')"
   ]
  },
  {
   "cell_type": "code",
   "execution_count": 11,
   "id": "15aff434",
   "metadata": {},
   "outputs": [
    {
     "name": "stdout",
     "output_type": "stream",
     "text": [
      "20      With little fanfare this fall, the New York de...\n",
      "961     Donald Trump’s supporters deserve to have thei...\n",
      "1715    Jay Parini , a poet and novelist, teaches at M...\n",
      "2371    Former Rhode Island Gov. Lincoln Chafee ended ...\n",
      "5159    BROOKLYN, Iowa - Ted Cruz has made a name for ...\n",
      "                              ...                        \n",
      "1099    (CNN) Hillary Clinton declared victory early T...\n",
      "2514    posted by Eddie Astronomers have recorded myst...\n",
      "3606    Hillary Clinton and Donald Trump look to rebou...\n",
      "5704    Principal Krystal Hardy has dedicated herself ...\n",
      "2575    \\nA new email released as part of the Wikileak...\n",
      "Name: text, Length: 5068, dtype: object\n"
     ]
    }
   ],
   "source": [
    "print(x_train)"
   ]
  },
  {
   "cell_type": "code",
   "execution_count": 12,
   "id": "d915a3e7",
   "metadata": {},
   "outputs": [
    {
     "name": "stdout",
     "output_type": "stream",
     "text": [
      "  (0, 20235)\t0.0331607458824967\n",
      "  (0, 57605)\t0.05161603744955192\n",
      "  (0, 52708)\t0.04663879708434075\n",
      "  (0, 56393)\t0.030134560037667565\n",
      "  (0, 21722)\t0.03145165749593157\n",
      "  (0, 4624)\t0.053429993709189286\n",
      "  (0, 16125)\t0.07300658945665849\n",
      "  (0, 44657)\t0.03093677761514883\n",
      "  (0, 49795)\t0.041920370249217756\n",
      "  (0, 25032)\t0.02740882795867995\n",
      "  (0, 38978)\t0.04071521350043149\n",
      "  (0, 7184)\t0.05082119972739067\n",
      "  (0, 17087)\t0.03908895325296196\n",
      "  (0, 29603)\t0.04876299809816476\n",
      "  (0, 9989)\t0.060056520479806516\n",
      "  (0, 42603)\t0.06903399409609802\n",
      "  (0, 28699)\t0.06752368343492604\n",
      "  (0, 30015)\t0.03311203762612271\n",
      "  (0, 49018)\t0.039282971982935455\n",
      "  (0, 29120)\t0.027178284952699566\n",
      "  (0, 26497)\t0.036328155257765095\n",
      "  (0, 29050)\t0.04353381476471955\n",
      "  (0, 40002)\t0.06309530237397165\n",
      "  (0, 31796)\t0.028097299237288407\n",
      "  (0, 46351)\t0.055868584018087954\n",
      "  :\t:\n",
      "  (5067, 46178)\t0.03722939703381832\n",
      "  (5067, 27025)\t0.06383301938620951\n",
      "  (5067, 34161)\t0.042084777283773085\n",
      "  (5067, 53097)\t0.05173922424876295\n",
      "  (5067, 47805)\t0.15119485613139527\n",
      "  (5067, 6979)\t0.19130777684089043\n",
      "  (5067, 59240)\t0.023499814542709586\n",
      "  (5067, 7405)\t0.2550376418816523\n",
      "  (5067, 60378)\t0.048599167545454826\n",
      "  (5067, 3725)\t0.02908994561455005\n",
      "  (5067, 14499)\t0.11970079497724546\n",
      "  (5067, 11349)\t0.16038456706237333\n",
      "  (5067, 25933)\t0.07124980816782647\n",
      "  (5067, 58779)\t0.18050311689716336\n",
      "  (5067, 10323)\t0.040161905635861354\n",
      "  (5067, 29723)\t0.029786475265540607\n",
      "  (5067, 54667)\t0.024893238461273316\n",
      "  (5067, 9424)\t0.09364527690012998\n",
      "  (5067, 30704)\t0.03437719627675066\n",
      "  (5067, 15960)\t0.03131823042683001\n",
      "  (5067, 40783)\t0.03713870359931292\n",
      "  (5067, 54969)\t0.019685655369482583\n",
      "  (5067, 42003)\t0.06625047153459902\n",
      "  (5067, 3717)\t0.02436895064353154\n",
      "  (5067, 37539)\t0.019048983337832937\n"
     ]
    }
   ],
   "source": [
    "print(x_train_features)"
   ]
  },
  {
   "cell_type": "markdown",
   "id": "91d4a10c",
   "metadata": {},
   "source": [
    "# Model Training"
   ]
  },
  {
   "cell_type": "code",
   "execution_count": 13,
   "id": "1f36e232",
   "metadata": {},
   "outputs": [],
   "source": [
    "classifier=PassiveAggressiveClassifier()"
   ]
  },
  {
   "cell_type": "code",
   "execution_count": 14,
   "id": "e090c2e5",
   "metadata": {},
   "outputs": [
    {
     "data": {
      "text/plain": [
       "PassiveAggressiveClassifier()"
      ]
     },
     "execution_count": 14,
     "metadata": {},
     "output_type": "execute_result"
    }
   ],
   "source": [
    "classifier.fit(x_train_features,y_train)"
   ]
  },
  {
   "cell_type": "markdown",
   "id": "d1e312ae",
   "metadata": {},
   "source": [
    "# Model Evaluation"
   ]
  },
  {
   "cell_type": "code",
   "execution_count": 15,
   "id": "53dbbe9d",
   "metadata": {},
   "outputs": [
    {
     "name": "stdout",
     "output_type": "stream",
     "text": [
      "Accuracy score of training data: 1.0\n"
     ]
    }
   ],
   "source": [
    "training_data_prediction=classifier.predict(x_train_features)\n",
    "training_accuracy_score=accuracy_score(y_train,training_data_prediction)\n",
    "print(\"Accuracy score of training data:\",training_accuracy_score)"
   ]
  },
  {
   "cell_type": "code",
   "execution_count": 16,
   "id": "b922ea80",
   "metadata": {},
   "outputs": [
    {
     "name": "stdout",
     "output_type": "stream",
     "text": [
      "Accuracy score of testing data: 0.9400157853196527\n"
     ]
    }
   ],
   "source": [
    "testing_data_prediction=classifier.predict(x_test_features)\n",
    "testing_accuracy_score=accuracy_score(y_test,testing_data_prediction)\n",
    "print(\"Accuracy score of testing data:\",testing_accuracy_score)"
   ]
  },
  {
   "cell_type": "markdown",
   "id": "51774b3a",
   "metadata": {},
   "source": [
    "# Building a Predictive System"
   ]
  },
  {
   "cell_type": "code",
   "execution_count": 17,
   "id": "208701a8",
   "metadata": {},
   "outputs": [
    {
     "name": "stdout",
     "output_type": "stream",
     "text": [
      "[0]\n",
      "The news is fake\n"
     ]
    }
   ],
   "source": [
    "input_text=[\"Daniel Greenfield, a Shillman Journalism Fello...\"]\n",
    "#convert text to feature vectors\n",
    "input_data_features=feature_extraction.transform(input_text)\n",
    "#making prediction\n",
    "prediction=classifier.predict(input_data_features)\n",
    "print(prediction)\n",
    "\n",
    "if(prediction[0]==1):\n",
    "    print(\"The news is real(i.e.,not fake)\")\n",
    "else:\n",
    "    print(\"The news is fake\")"
   ]
  },
  {
   "cell_type": "code",
   "execution_count": null,
   "id": "1265c585",
   "metadata": {},
   "outputs": [],
   "source": []
  }
 ],
 "metadata": {
  "kernelspec": {
   "display_name": "Python 3 (ipykernel)",
   "language": "python",
   "name": "python3"
  },
  "language_info": {
   "codemirror_mode": {
    "name": "ipython",
    "version": 3
   },
   "file_extension": ".py",
   "mimetype": "text/x-python",
   "name": "python",
   "nbconvert_exporter": "python",
   "pygments_lexer": "ipython3",
   "version": "3.9.12"
  }
 },
 "nbformat": 4,
 "nbformat_minor": 5
}
